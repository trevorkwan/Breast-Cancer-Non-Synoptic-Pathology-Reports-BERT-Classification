{
 "cells": [
  {
   "cell_type": "markdown",
   "metadata": {},
   "source": [
    "#### Error Analysis QA Confidence Score\n",
    "\n",
    "- Takes 1. QA Model Confidence Scores and 2. Yes/No Mention Status based on the actual label_value.\n",
    "- Plots a distribution to see the relationship between qa confidence score and mention status.\n",
    "- The version doesn't matter because the version is just for evaluating with different thresholds, we just need to set one to get the predictions inside."
   ]
  },
  {
   "cell_type": "code",
   "execution_count": 95,
   "metadata": {},
   "outputs": [],
   "source": [
    "import re\n",
    "import pandas as pd\n",
    "from sklearn.model_selection import GroupShuffleSplit\n",
    "from difflib import SequenceMatcher\n",
    "import os\n",
    "from transformers import set_seed\n",
    "import csv \n",
    "import numpy as np\n",
    "\n",
    "# Set the seed\n",
    "set_seed(42)\n",
    "\n",
    "# Define the arguments\n",
    "model_checkpoint = 'franklu/pubmed_bert_squadv2'\n",
    "model_name = model_checkpoint.split(\"/\")[-1]\n",
    "model_dir = \"../results/trained\\\\\"\n",
    "model_signature = '_19827_v3\\\\'\n",
    "version = 'v1'\n",
    "\n",
    "desired_fois = [\"DCIS Margins\", \"ER Status\", \"Extranodal Extension\", \"HER2 Status\", \"Insitu Component\", \"Invasive Carcinoma\", \"Invasive Carcinoma Margins\", \"Lymphovascular Invasion\", \"Necrosis\", \"PR Status\", \"Tumour Focality\"]\n",
    "input_dir = os.path.join(model_dir, model_name + model_signature, \"eval\", version)"
   ]
  },
  {
   "cell_type": "code",
   "execution_count": 96,
   "metadata": {},
   "outputs": [],
   "source": [
    "def load_all_foi_pred(foi_list, input_dir):\n",
    "    # Initialize an empty DataFrame that will hold all the concatenated DataFrames\n",
    "    combined_df = pd.DataFrame()\n",
    "\n",
    "    for foi in foi_list:\n",
    "        # Define the path to the CSV file\n",
    "        file_path = os.path.join(input_dir, foi, 'predictions_' + foi + '.csv')\n",
    "\n",
    "        # Read the CSV file into a DataFrame\n",
    "        df = pd.read_csv(file_path)\n",
    "\n",
    "        # Concatenate the DataFrame horizontally with the combined DataFrame\n",
    "        combined_df = pd.concat([combined_df, df], axis=0)\n",
    "\n",
    "    return combined_df\n",
    "\n",
    "combined_df = load_all_foi_pred(desired_fois, input_dir)"
   ]
  },
  {
   "cell_type": "code",
   "execution_count": 97,
   "metadata": {},
   "outputs": [],
   "source": [
    "# Create the new 'mention' column based on the 'label_value' column\n",
    "combined_df['mention'] = np.where(combined_df['answer'].isna(), 'No', 'Yes')"
   ]
  },
  {
   "cell_type": "code",
   "execution_count": 98,
   "metadata": {},
   "outputs": [
    {
     "data": {
      "image/png": "[encoded data removed]",
      "text/plain": [
       "<Figure size 640x480 with 1 Axes>"
      ]
     },
     "metadata": {},
     "output_type": "display_data"
    }
   ],
   "source": [
    "import seaborn as sns\n",
    "import matplotlib.pyplot as plt\n",
    "\n",
    "# Create the plot using seaborn's 'histplot' function with no KDE and high number of bins\n",
    "sns.histplot(data=combined_df, x='qa_score', hue='mention', element='step', stat='density', kde=False, bins=100)\n",
    "\n",
    "# Add labels and title\n",
    "plt.xlabel('QA Confidence Score')\n",
    "plt.ylabel('Density') # it is divided by the total number of bins\n",
    "plt.title('QA Confidence Scores for Yes and No Mentions')\n",
    "\n",
    "# Show the plot\n",
    "plt.show()\n",
    "\n"
   ]
  },
  {
   "cell_type": "code",
   "execution_count": 99,
   "metadata": {},
   "outputs": [
    {
     "data": {
      "text/plain": [
       "834"
      ]
     },
     "execution_count": 99,
     "metadata": {},
     "output_type": "execute_result"
    }
   ],
   "source": [
    "no_mention_df = combined_df[combined_df['mention'] == \"No\"]\n",
    "len(no_mention_df[no_mention_df['qa_score'] < 0.1])"
   ]
  },
  {
   "cell_type": "code",
   "execution_count": 100,
   "metadata": {},
   "outputs": [
    {
     "data": {
      "text/plain": [
       "938"
      ]
     },
     "execution_count": 100,
     "metadata": {},
     "output_type": "execute_result"
    }
   ],
   "source": [
    "yes_mention_df = combined_df[combined_df['mention'] == \"Yes\"]\n",
    "len(yes_mention_df[yes_mention_df['qa_score'] > 0.1])"
   ]
  },
  {
   "cell_type": "code",
   "execution_count": 101,
   "metadata": {},
   "outputs": [
    {
     "name": "stdout",
     "output_type": "stream",
     "text": [
      "The current count is: 977 for threshold of 0.0.\n",
      "The current count is: 1778 for threshold of 0.01.\n",
      "The current count is: 1775 for threshold of 0.02.\n",
      "The current count is: 1774 for threshold of 0.03.\n",
      "The current count is: 1774 for threshold of 0.04.\n",
      "The current count is: 1773 for threshold of 0.05.\n",
      "The current count is: 1774 for threshold of 0.06.\n",
      "The current count is: 1772 for threshold of 0.07.\n",
      "The current count is: 1772 for threshold of 0.08.\n",
      "The current count is: 1772 for threshold of 0.09.\n",
      "The current count is: 1772 for threshold of 0.1.\n",
      "The current count is: 1770 for threshold of 0.11.\n",
      "The current count is: 1770 for threshold of 0.12.\n",
      "The current count is: 1769 for threshold of 0.13.\n",
      "The current count is: 1769 for threshold of 0.14.\n",
      "The current count is: 1768 for threshold of 0.15.\n",
      "The current count is: 1765 for threshold of 0.16.\n",
      "The current count is: 1765 for threshold of 0.17.\n",
      "The current count is: 1764 for threshold of 0.18.\n",
      "The current count is: 1765 for threshold of 0.19.\n",
      "The current count is: 1762 for threshold of 0.2.\n",
      "The current count is: 1763 for threshold of 0.21.\n",
      "The current count is: 1762 for threshold of 0.22.\n",
      "The current count is: 1761 for threshold of 0.23.\n",
      "The current count is: 1761 for threshold of 0.24.\n",
      "The current count is: 1762 for threshold of 0.25.\n",
      "The current count is: 1762 for threshold of 0.26.\n",
      "The current count is: 1762 for threshold of 0.27.\n",
      "The current count is: 1760 for threshold of 0.28.\n",
      "The current count is: 1759 for threshold of 0.29.\n",
      "The current count is: 1758 for threshold of 0.3.\n",
      "The current count is: 1756 for threshold of 0.31.\n",
      "The current count is: 1756 for threshold of 0.32.\n",
      "The current count is: 1757 for threshold of 0.33.\n",
      "The current count is: 1756 for threshold of 0.34.\n",
      "The current count is: 1754 for threshold of 0.35000000000000003.\n",
      "The current count is: 1754 for threshold of 0.36.\n",
      "The current count is: 1752 for threshold of 0.37.\n",
      "The current count is: 1752 for threshold of 0.38.\n",
      "The current count is: 1751 for threshold of 0.39.\n",
      "The current count is: 1750 for threshold of 0.4.\n",
      "The current count is: 1749 for threshold of 0.41000000000000003.\n",
      "The current count is: 1748 for threshold of 0.42.\n",
      "The current count is: 1747 for threshold of 0.43.\n",
      "The current count is: 1746 for threshold of 0.44.\n",
      "The current count is: 1746 for threshold of 0.45.\n",
      "The current count is: 1746 for threshold of 0.46.\n",
      "The current count is: 1743 for threshold of 0.47000000000000003.\n",
      "The current count is: 1743 for threshold of 0.48.\n",
      "The current count is: 1742 for threshold of 0.49.\n",
      "The current count is: 1740 for threshold of 0.5.\n",
      "The current count is: 1740 for threshold of 0.51.\n",
      "The current count is: 1740 for threshold of 0.52.\n",
      "The current count is: 1737 for threshold of 0.53.\n",
      "The current count is: 1736 for threshold of 0.54.\n",
      "The current count is: 1735 for threshold of 0.55.\n",
      "The current count is: 1734 for threshold of 0.56.\n",
      "The current count is: 1734 for threshold of 0.5700000000000001.\n",
      "The current count is: 1732 for threshold of 0.58.\n",
      "The current count is: 1731 for threshold of 0.59.\n",
      "The current count is: 1728 for threshold of 0.6.\n",
      "The current count is: 1728 for threshold of 0.61.\n",
      "The current count is: 1728 for threshold of 0.62.\n",
      "The current count is: 1726 for threshold of 0.63.\n",
      "The current count is: 1724 for threshold of 0.64.\n",
      "The current count is: 1722 for threshold of 0.65.\n",
      "The current count is: 1718 for threshold of 0.66.\n",
      "The current count is: 1716 for threshold of 0.67.\n",
      "The current count is: 1716 for threshold of 0.68.\n",
      "The current count is: 1712 for threshold of 0.6900000000000001.\n",
      "The current count is: 1710 for threshold of 0.7000000000000001.\n",
      "The current count is: 1705 for threshold of 0.71.\n",
      "The current count is: 1698 for threshold of 0.72.\n",
      "The current count is: 1691 for threshold of 0.73.\n",
      "The current count is: 1685 for threshold of 0.74.\n",
      "The current count is: 1681 for threshold of 0.75.\n",
      "The current count is: 1676 for threshold of 0.76.\n",
      "The current count is: 1673 for threshold of 0.77.\n",
      "The current count is: 1664 for threshold of 0.78.\n",
      "The current count is: 1662 for threshold of 0.79.\n",
      "The current count is: 1656 for threshold of 0.8.\n",
      "The current count is: 1647 for threshold of 0.81.\n",
      "The current count is: 1642 for threshold of 0.8200000000000001.\n",
      "The current count is: 1636 for threshold of 0.8300000000000001.\n",
      "The current count is: 1634 for threshold of 0.84.\n",
      "The current count is: 1627 for threshold of 0.85.\n",
      "The current count is: 1622 for threshold of 0.86.\n",
      "The current count is: 1615 for threshold of 0.87.\n",
      "The current count is: 1605 for threshold of 0.88.\n",
      "The current count is: 1597 for threshold of 0.89.\n",
      "The current count is: 1589 for threshold of 0.9.\n",
      "The current count is: 1582 for threshold of 0.91.\n",
      "The current count is: 1572 for threshold of 0.92.\n",
      "The current count is: 1565 for threshold of 0.93.\n",
      "The current count is: 1543 for threshold of 0.9400000000000001.\n",
      "The current count is: 1514 for threshold of 0.9500000000000001.\n",
      "The current count is: 1486 for threshold of 0.96.\n",
      "The current count is: 1432 for threshold of 0.97.\n",
      "The current count is: 1361 for threshold of 0.98.\n",
      "The current count is: 1241 for threshold of 0.99.\n",
      "The optimal qa_score threshold is: 0.01\n"
     ]
    }
   ],
   "source": [
    "# algorithim to find the optimal qa_confidence score threshold\n",
    "import numpy as np\n",
    "\n",
    "def optimal_qa_score_threshold(df):\n",
    "    grid_search_qa_scores = np.arange(0, 1, 0.01)\n",
    "    \n",
    "    # Initiate optimal qa_score and its corresponding maximum count\n",
    "    optimal_score = None\n",
    "    max_count = 0\n",
    "\n",
    "    output_dir = os.path.join(model_dir, model_name + model_signature, \"eval\")\n",
    "    output_filepath = os.path.join(output_dir, 'qa_confidence_score_threshold_analysis.txt')\n",
    "    with open(output_filepath, 'w') as file:\n",
    "        for threshold in grid_search_qa_scores:\n",
    "            # For \"No\" mention\n",
    "            no_mention_count = len(df[(df['mention'] == \"No\") & (df['qa_score'] < threshold)])\n",
    "            \n",
    "            # For \"Yes\" mention\n",
    "            yes_mention_count = len(df[(df['mention'] == \"Yes\") & (df['qa_score'] > threshold)])\n",
    "            \n",
    "            current_count = no_mention_count + yes_mention_count\n",
    "            \n",
    "            if current_count > max_count:\n",
    "                max_count = current_count\n",
    "                optimal_score = threshold\n",
    "            \n",
    "            log_message = f\"The current count is: {current_count} for threshold of {threshold}.\\n\"\n",
    "            file.write(log_message)\n",
    "            print(f\"The current count is: {current_count} for threshold of {threshold}.\")  # To print it to the console too\n",
    "\n",
    "    return optimal_score\n",
    "\n",
    "# Test the function\n",
    "result = optimal_qa_score_threshold(combined_df)\n",
    "print(f\"The optimal qa_score threshold is: {result}\")\n"
   ]
  }
 ],
 "metadata": {
  "kernelspec": {
   "display_name": "trevor_env",
   "language": "python",
   "name": "python3"
  },
  "language_info": {
   "codemirror_mode": {
    "name": "ipython",
    "version": 3
   },
   "file_extension": ".py",
   "mimetype": "text/x-python",
   "name": "python",
   "nbconvert_exporter": "python",
   "pygments_lexer": "ipython3",
   "version": "3.11.4"
  },
  "orig_nbformat": 4
 },
 "nbformat": 4,
 "nbformat_minor": 2
}
